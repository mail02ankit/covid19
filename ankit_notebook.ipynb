{
 "cells": [
  {
   "cell_type": "code",
   "execution_count": 87,
   "metadata": {},
   "outputs": [
    {
     "name": "stdin",
     "output_type": "stream",
     "text": [
      "Once deleted, variables cannot be recovered. Proceed (y/[n])?  y\n"
     ]
    }
   ],
   "source": [
    "%reset"
   ]
  },
  {
   "cell_type": "code",
   "execution_count": 88,
   "metadata": {},
   "outputs": [],
   "source": [
    "import pandas as pd\n",
    "import numpy as np\n",
    "import re\n",
    "import matplotlib.pyplot as plt"
   ]
  },
  {
   "cell_type": "code",
   "execution_count": 89,
   "metadata": {},
   "outputs": [],
   "source": [
    "df = pd.read_csv('data/train.csv')"
   ]
  },
  {
   "cell_type": "code",
   "execution_count": 90,
   "metadata": {},
   "outputs": [],
   "source": [
    "df['Date'] = pd.to_datetime( df['Date']) # Convert date into datetime format\n",
    "df['Num_Days'] = ( df['Date'] - df['Date'][0] ).dt.days # Add a coulmn for number of days from the first reported case."
   ]
  },
  {
   "cell_type": "code",
   "execution_count": 91,
   "metadata": {},
   "outputs": [
    {
     "name": "stdout",
     "output_type": "stream",
     "text": [
      "<class 'pandas.core.frame.DataFrame'>\n",
      "RangeIndex: 19698 entries, 0 to 19697\n",
      "Data columns (total 7 columns):\n",
      " #   Column          Non-Null Count  Dtype         \n",
      "---  ------          --------------  -----         \n",
      " 0   Id              19698 non-null  int64         \n",
      " 1   Province_State  8375 non-null   object        \n",
      " 2   Country_Region  19698 non-null  object        \n",
      " 3   Date            19698 non-null  datetime64[ns]\n",
      " 4   ConfirmedCases  19698 non-null  float64       \n",
      " 5   Fatalities      19698 non-null  float64       \n",
      " 6   Num_Days        19698 non-null  int64         \n",
      "dtypes: datetime64[ns](1), float64(2), int64(2), object(2)\n",
      "memory usage: 1.1+ MB\n"
     ]
    },
    {
     "data": {
      "text/plain": [
       "RangeIndex(start=0, stop=19698, step=1)"
      ]
     },
     "execution_count": 91,
     "metadata": {},
     "output_type": "execute_result"
    }
   ],
   "source": [
    "#--- Some info about the data set.\n",
    "df.info()\n",
    "df.columns\n",
    "df.index"
   ]
  },
  {
   "cell_type": "code",
   "execution_count": 93,
   "metadata": {},
   "outputs": [
    {
     "name": "stdout",
     "output_type": "stream",
     "text": [
      "NAN count in [Province_state, Country_region, Date, ConfirmedCases, Fatalities] [0, 11323, 0, 0, 0, 0, 0]\n"
     ]
    }
   ],
   "source": [
    "#--- Check how many NAN are there.\n",
    "print( \"NAN count in [Province_state, Country_region, Date, ConfirmedCases, Fatalities]\", [sum( df[i].isna() ) for i in df.columns])\n",
    "\n",
    "# Fill not-known data \n",
    "df = df.fillna( 'NoInfo')"
   ]
  },
  {
   "cell_type": "code",
   "execution_count": 94,
   "metadata": {},
   "outputs": [
    {
     "data": {
      "text/plain": [
       "array(['NoInfo', 'Australian Capital Territory', 'New South Wales',\n",
       "       'Northern Territory', 'Queensland', 'South Australia', 'Tasmania',\n",
       "       'Victoria', 'Western Australia', 'Alberta', 'British Columbia',\n",
       "       'Manitoba', 'New Brunswick', 'Newfoundland and Labrador',\n",
       "       'Nova Scotia', 'Ontario', 'Prince Edward Island', 'Quebec',\n",
       "       'Saskatchewan', 'Anhui', 'Beijing', 'Chongqing', 'Fujian', 'Gansu',\n",
       "       'Guangdong', 'Guangxi', 'Guizhou', 'Hainan', 'Hebei',\n",
       "       'Heilongjiang', 'Henan', 'Hong Kong', 'Hubei', 'Hunan',\n",
       "       'Inner Mongolia', 'Jiangsu', 'Jiangxi', 'Jilin', 'Liaoning',\n",
       "       'Macau', 'Ningxia', 'Qinghai', 'Shaanxi', 'Shandong', 'Shanghai',\n",
       "       'Shanxi', 'Sichuan', 'Tianjin', 'Tibet', 'Xinjiang', 'Yunnan',\n",
       "       'Zhejiang', 'Faroe Islands', 'Greenland', 'French Guiana',\n",
       "       'French Polynesia', 'Guadeloupe', 'Martinique', 'Mayotte',\n",
       "       'New Caledonia', 'Reunion', 'Saint Barthelemy', 'St Martin',\n",
       "       'Aruba', 'Curacao', 'Sint Maarten', 'Alabama', 'Alaska', 'Arizona',\n",
       "       'Arkansas', 'California', 'Colorado', 'Connecticut', 'Delaware',\n",
       "       'District of Columbia', 'Florida', 'Georgia', 'Guam', 'Hawaii',\n",
       "       'Idaho', 'Illinois', 'Indiana', 'Iowa', 'Kansas', 'Kentucky',\n",
       "       'Louisiana', 'Maine', 'Maryland', 'Massachusetts', 'Michigan',\n",
       "       'Minnesota', 'Mississippi', 'Missouri', 'Montana', 'Nebraska',\n",
       "       'Nevada', 'New Hampshire', 'New Jersey', 'New Mexico', 'New York',\n",
       "       'North Carolina', 'North Dakota', 'Ohio', 'Oklahoma', 'Oregon',\n",
       "       'Pennsylvania', 'Puerto Rico', 'Rhode Island', 'South Carolina',\n",
       "       'South Dakota', 'Tennessee', 'Texas', 'Utah', 'Vermont',\n",
       "       'Virgin Islands', 'Virginia', 'Washington', 'West Virginia',\n",
       "       'Wisconsin', 'Wyoming', 'Bermuda', 'Cayman Islands',\n",
       "       'Channel Islands', 'Gibraltar', 'Isle of Man', 'Montserrat'],\n",
       "      dtype=object)"
      ]
     },
     "execution_count": 94,
     "metadata": {},
     "output_type": "execute_result"
    }
   ],
   "source": [
    "df['Province_State'].unique()\n",
    "# df['Country_Region'].unique()"
   ]
  },
  {
   "cell_type": "code",
   "execution_count": 164,
   "metadata": {},
   "outputs": [
    {
     "name": "stdout",
     "output_type": "stream",
     "text": [
      "Countries:  ['US', 'Uganda', 'Ukraine', 'United Arab Emirates', 'United Kingdom', 'Uruguay', 'Uzbekistan']\n",
      "Province:  ['Northern Territory', 'North Carolina', 'North Dakota']\n"
     ]
    }
   ],
   "source": [
    "# To get the country names and province names \n",
    "def search_country_province( country, province, df):\n",
    "    # Search country\n",
    "    out = []\n",
    "    for CName in df['Country_Region'].unique():\n",
    "        if re.search(country, CName):\n",
    "            out.append(CName)\n",
    "    print('Countries: ', out)\n",
    "    # Search province\n",
    "    out = []\n",
    "    for PName in df['Province_State'].unique():\n",
    "        if re.search(province, PName):\n",
    "               out.append(PName)\n",
    "    print('Province: ', out)\n",
    "\n",
    "search_country_province( 'U', 'North', df)"
   ]
  },
  {
   "cell_type": "code",
   "execution_count": 165,
   "metadata": {},
   "outputs": [
    {
     "data": {
      "text/html": [
       "<div>\n",
       "<style scoped>\n",
       "    .dataframe tbody tr th:only-of-type {\n",
       "        vertical-align: middle;\n",
       "    }\n",
       "\n",
       "    .dataframe tbody tr th {\n",
       "        vertical-align: top;\n",
       "    }\n",
       "\n",
       "    .dataframe thead th {\n",
       "        text-align: right;\n",
       "    }\n",
       "</style>\n",
       "<table border=\"1\" class=\"dataframe\">\n",
       "  <thead>\n",
       "    <tr style=\"text-align: right;\">\n",
       "      <th></th>\n",
       "      <th>Id</th>\n",
       "      <th>ConfirmedCases</th>\n",
       "      <th>Fatalities</th>\n",
       "    </tr>\n",
       "    <tr>\n",
       "      <th>Num_Days</th>\n",
       "      <th></th>\n",
       "      <th></th>\n",
       "      <th></th>\n",
       "    </tr>\n",
       "  </thead>\n",
       "  <tbody>\n",
       "    <tr>\n",
       "      <th>0</th>\n",
       "      <td>198807</td>\n",
       "      <td>0.0</td>\n",
       "      <td>0.0</td>\n",
       "    </tr>\n",
       "    <tr>\n",
       "      <th>1</th>\n",
       "      <td>198814</td>\n",
       "      <td>0.0</td>\n",
       "      <td>0.0</td>\n",
       "    </tr>\n",
       "    <tr>\n",
       "      <th>2</th>\n",
       "      <td>198821</td>\n",
       "      <td>0.0</td>\n",
       "      <td>0.0</td>\n",
       "    </tr>\n",
       "    <tr>\n",
       "      <th>3</th>\n",
       "      <td>198828</td>\n",
       "      <td>0.0</td>\n",
       "      <td>0.0</td>\n",
       "    </tr>\n",
       "    <tr>\n",
       "      <th>4</th>\n",
       "      <td>198835</td>\n",
       "      <td>0.0</td>\n",
       "      <td>0.0</td>\n",
       "    </tr>\n",
       "    <tr>\n",
       "      <th>...</th>\n",
       "      <td>...</td>\n",
       "      <td>...</td>\n",
       "      <td>...</td>\n",
       "    </tr>\n",
       "    <tr>\n",
       "      <th>62</th>\n",
       "      <td>199241</td>\n",
       "      <td>8164.0</td>\n",
       "      <td>423.0</td>\n",
       "    </tr>\n",
       "    <tr>\n",
       "      <th>63</th>\n",
       "      <td>199248</td>\n",
       "      <td>9640.0</td>\n",
       "      <td>466.0</td>\n",
       "    </tr>\n",
       "    <tr>\n",
       "      <th>64</th>\n",
       "      <td>199255</td>\n",
       "      <td>11812.0</td>\n",
       "      <td>580.0</td>\n",
       "    </tr>\n",
       "    <tr>\n",
       "      <th>65</th>\n",
       "      <td>199262</td>\n",
       "      <td>14745.0</td>\n",
       "      <td>761.0</td>\n",
       "    </tr>\n",
       "    <tr>\n",
       "      <th>66</th>\n",
       "      <td>199269</td>\n",
       "      <td>17304.0</td>\n",
       "      <td>1021.0</td>\n",
       "    </tr>\n",
       "  </tbody>\n",
       "</table>\n",
       "<p>67 rows × 3 columns</p>\n",
       "</div>"
      ],
      "text/plain": [
       "              Id  ConfirmedCases  Fatalities\n",
       "Num_Days                                    \n",
       "0         198807             0.0         0.0\n",
       "1         198814             0.0         0.0\n",
       "2         198821             0.0         0.0\n",
       "3         198828             0.0         0.0\n",
       "4         198835             0.0         0.0\n",
       "...          ...             ...         ...\n",
       "62        199241          8164.0       423.0\n",
       "63        199248          9640.0       466.0\n",
       "64        199255         11812.0       580.0\n",
       "65        199262         14745.0       761.0\n",
       "66        199269         17304.0      1021.0\n",
       "\n",
       "[67 rows x 3 columns]"
      ]
     },
     "execution_count": 165,
     "metadata": {},
     "output_type": "execute_result"
    }
   ],
   "source": [
    "def df_summed_provinces( df, CName ):\n",
    "    '''\n",
    "    * Sum over provices for a given country.\n",
    "    * Note, output df has multilevel indexes.\n",
    "    '''\n",
    "    out = df.groupby( [ 'Country_Region','Num_Days']).sum()\n",
    "    \n",
    "    # Make hierarchical labels\n",
    "    # df_r = df.groupby( ['Country_Region', 'Province_State'] )\n",
    "    #df_r = df.set_index( ['Country_Region', 'Province_State'] )\n",
    "    \n",
    "    return out.loc[(CName,)]\n",
    "\n",
    "# Extract US data summed over all provices/states\n",
    "df_r = df_summed_provinces(df, 'United Kingdom')\n",
    "df_r"
   ]
  },
  {
   "cell_type": "code",
   "execution_count": 110,
   "metadata": {},
   "outputs": [
    {
     "name": "stderr",
     "output_type": "stream",
     "text": [
      "/opt/anaconda/lib/python3.7/site-packages/ipykernel_launcher.py:9: PerformanceWarning: indexing past lexsort depth may impact performance.\n",
      "  if __name__ == '__main__':\n"
     ]
    },
    {
     "data": {
      "text/html": [
       "<div>\n",
       "<style scoped>\n",
       "    .dataframe tbody tr th:only-of-type {\n",
       "        vertical-align: middle;\n",
       "    }\n",
       "\n",
       "    .dataframe tbody tr th {\n",
       "        vertical-align: top;\n",
       "    }\n",
       "\n",
       "    .dataframe thead th {\n",
       "        text-align: right;\n",
       "    }\n",
       "</style>\n",
       "<table border=\"1\" class=\"dataframe\">\n",
       "  <thead>\n",
       "    <tr style=\"text-align: right;\">\n",
       "      <th></th>\n",
       "      <th></th>\n",
       "      <th>Id</th>\n",
       "      <th>Date</th>\n",
       "      <th>ConfirmedCases</th>\n",
       "      <th>Fatalities</th>\n",
       "      <th>Num_Days</th>\n",
       "    </tr>\n",
       "    <tr>\n",
       "      <th>Country_Region</th>\n",
       "      <th>Province_State</th>\n",
       "      <th></th>\n",
       "      <th></th>\n",
       "      <th></th>\n",
       "      <th></th>\n",
       "      <th></th>\n",
       "    </tr>\n",
       "  </thead>\n",
       "  <tbody>\n",
       "    <tr>\n",
       "      <th rowspan=\"11\" valign=\"top\">US</th>\n",
       "      <th>Alabama</th>\n",
       "      <td>22401</td>\n",
       "      <td>2020-01-22</td>\n",
       "      <td>0.0</td>\n",
       "      <td>0.0</td>\n",
       "      <td>0</td>\n",
       "    </tr>\n",
       "    <tr>\n",
       "      <th>Alabama</th>\n",
       "      <td>22402</td>\n",
       "      <td>2020-01-23</td>\n",
       "      <td>0.0</td>\n",
       "      <td>0.0</td>\n",
       "      <td>1</td>\n",
       "    </tr>\n",
       "    <tr>\n",
       "      <th>Alabama</th>\n",
       "      <td>22403</td>\n",
       "      <td>2020-01-24</td>\n",
       "      <td>0.0</td>\n",
       "      <td>0.0</td>\n",
       "      <td>2</td>\n",
       "    </tr>\n",
       "    <tr>\n",
       "      <th>Alabama</th>\n",
       "      <td>22404</td>\n",
       "      <td>2020-01-25</td>\n",
       "      <td>0.0</td>\n",
       "      <td>0.0</td>\n",
       "      <td>3</td>\n",
       "    </tr>\n",
       "    <tr>\n",
       "      <th>Alabama</th>\n",
       "      <td>22405</td>\n",
       "      <td>2020-01-26</td>\n",
       "      <td>0.0</td>\n",
       "      <td>0.0</td>\n",
       "      <td>4</td>\n",
       "    </tr>\n",
       "    <tr>\n",
       "      <th>...</th>\n",
       "      <td>...</td>\n",
       "      <td>...</td>\n",
       "      <td>...</td>\n",
       "      <td>...</td>\n",
       "      <td>...</td>\n",
       "    </tr>\n",
       "    <tr>\n",
       "      <th>Alabama</th>\n",
       "      <td>22463</td>\n",
       "      <td>2020-03-24</td>\n",
       "      <td>242.0</td>\n",
       "      <td>0.0</td>\n",
       "      <td>62</td>\n",
       "    </tr>\n",
       "    <tr>\n",
       "      <th>Alabama</th>\n",
       "      <td>22464</td>\n",
       "      <td>2020-03-25</td>\n",
       "      <td>381.0</td>\n",
       "      <td>1.0</td>\n",
       "      <td>63</td>\n",
       "    </tr>\n",
       "    <tr>\n",
       "      <th>Alabama</th>\n",
       "      <td>22465</td>\n",
       "      <td>2020-03-26</td>\n",
       "      <td>517.0</td>\n",
       "      <td>1.0</td>\n",
       "      <td>64</td>\n",
       "    </tr>\n",
       "    <tr>\n",
       "      <th>Alabama</th>\n",
       "      <td>22466</td>\n",
       "      <td>2020-03-27</td>\n",
       "      <td>587.0</td>\n",
       "      <td>4.0</td>\n",
       "      <td>65</td>\n",
       "    </tr>\n",
       "    <tr>\n",
       "      <th>Alabama</th>\n",
       "      <td>22467</td>\n",
       "      <td>2020-03-28</td>\n",
       "      <td>694.0</td>\n",
       "      <td>4.0</td>\n",
       "      <td>66</td>\n",
       "    </tr>\n",
       "  </tbody>\n",
       "</table>\n",
       "<p>67 rows × 5 columns</p>\n",
       "</div>"
      ],
      "text/plain": [
       "                                  Id       Date  ConfirmedCases  Fatalities  \\\n",
       "Country_Region Province_State                                                 \n",
       "US             Alabama         22401 2020-01-22             0.0         0.0   \n",
       "               Alabama         22402 2020-01-23             0.0         0.0   \n",
       "               Alabama         22403 2020-01-24             0.0         0.0   \n",
       "               Alabama         22404 2020-01-25             0.0         0.0   \n",
       "               Alabama         22405 2020-01-26             0.0         0.0   \n",
       "...                              ...        ...             ...         ...   \n",
       "               Alabama         22463 2020-03-24           242.0         0.0   \n",
       "               Alabama         22464 2020-03-25           381.0         1.0   \n",
       "               Alabama         22465 2020-03-26           517.0         1.0   \n",
       "               Alabama         22466 2020-03-27           587.0         4.0   \n",
       "               Alabama         22467 2020-03-28           694.0         4.0   \n",
       "\n",
       "                               Num_Days  \n",
       "Country_Region Province_State            \n",
       "US             Alabama                0  \n",
       "               Alabama                1  \n",
       "               Alabama                2  \n",
       "               Alabama                3  \n",
       "               Alabama                4  \n",
       "...                                 ...  \n",
       "               Alabama               62  \n",
       "               Alabama               63  \n",
       "               Alabama               64  \n",
       "               Alabama               65  \n",
       "               Alabama               66  \n",
       "\n",
       "[67 rows x 5 columns]"
      ]
     },
     "execution_count": 110,
     "metadata": {},
     "output_type": "execute_result"
    }
   ],
   "source": [
    "def df_country_province( df, CName, PName ):\n",
    "    '''\n",
    "    * Data for a given country and provice.\n",
    "    * Note, output df has multilevel indexes.\n",
    "    '''\n",
    "    out = df.set_index( ['Country_Region', 'Province_State'] )\n",
    "    out.head()\n",
    "     \n",
    "    return out.loc[(CName,PName)]\n",
    "    \n",
    "# Extract US data summed over all provices/states\n",
    "df_r = df_country_province(df, 'US', 'Alabama')\n",
    "df_r"
   ]
  },
  {
   "cell_type": "markdown",
   "metadata": {},
   "source": [
    "# Plots"
   ]
  },
  {
   "cell_type": "markdown",
   "metadata": {},
   "source": [
    "## Compare two provinces"
   ]
  },
  {
   "cell_type": "code",
   "execution_count": 163,
   "metadata": {},
   "outputs": [
    {
     "name": "stderr",
     "output_type": "stream",
     "text": [
      "/opt/anaconda/lib/python3.7/site-packages/ipykernel_launcher.py:9: PerformanceWarning: indexing past lexsort depth may impact performance.\n",
      "  if __name__ == '__main__':\n",
      "/opt/anaconda/lib/python3.7/site-packages/ipykernel_launcher.py:9: PerformanceWarning: indexing past lexsort depth may impact performance.\n",
      "  if __name__ == '__main__':\n"
     ]
    },
    {
     "data": {
      "image/png": "[encoded data removed]",
      "text/plain": [
       "<Figure size 1200x600 with 4 Axes>"
      ]
     },
     "metadata": {
      "needs_background": "light"
     },
     "output_type": "display_data"
    }
   ],
   "source": [
    "CName = 'Afghanistan'\n",
    "PName = 'NoInfo'\n",
    "# PName = 'North Carolina'\n",
    "\n",
    "df_p = df_country_province(df, CName, PName)\n",
    "\n",
    "fig, ax = plt.subplots(1,2, figsize = (6,3), dpi=200)\n",
    "# fig, ax = plt.subplots(1,2, dpi=200)\n",
    "fig.subplots_adjust(wspace=0.6, hspace=0.0)\n",
    "ax = ax.ravel()\n",
    "fontl=8\n",
    "\n",
    "ax[0].plot( df_p['Num_Days'], df_p['ConfirmedCases'],'-',color='b', label=CName+','+PName)\n",
    "ax[1].plot( df_p['Num_Days'], df_p['Fatalities'],'-',color='b', label=CName+','+PName)\n",
    "\n",
    "# Second country, y2 axis\n",
    "CName = 'US'\n",
    "PName = 'North Carolina'\n",
    "df_p = df_country_province(df, CName, PName)\n",
    "\n",
    "axY2 = [ax[0].twinx(), ax[1].twinx()]\n",
    "axY2[0].plot( df_p['Num_Days'], df_p['ConfirmedCases'],'-',color='r', label=CName+','+PName)\n",
    "axY2[1].plot( df_p['Num_Days'], df_p['Fatalities'],'-',color='r', label=CName+','+PName)\n",
    "\n",
    "for iPlot in [0,1]:\n",
    "    ax[iPlot].set_xlabel('Days', fontsize=fontl)\n",
    "#     ax[0].set_title( 'Cases', fontsize=fontl)\n",
    "#     ax[1].set_title( 'Dead', fontsize=fontl)\n",
    "    \n",
    "    ax[0].set_ylabel('Confirmed cases', fontsize=fontl)\n",
    "    ax[1].set_ylabel('Dead', fontsize=fontl)\n",
    "    \n",
    "    ax[iPlot].legend( loc='upper left', frameon = 0, fontsize=fontl)\n",
    "    ax[iPlot].tick_params(axis='both', which='major', labelsize=1.0*fontl)\n",
    "    \n",
    "    axY2[iPlot].legend( loc='center left', frameon = 0, fontsize=fontl)\n",
    "    axY2[iPlot].tick_params(axis='both', which='major', labelsize=1.0*fontl)\n",
    "    \n",
    "    ax[iPlot].legend( loc='upper left', frameon = 'True', fontsize=fontl)"
   ]
  },
  {
   "cell_type": "code",
   "execution_count": 158,
   "metadata": {},
   "outputs": [
    {
     "name": "stdout",
     "output_type": "stream",
     "text": [
      "Countries:  ['US', 'Uganda', 'Ukraine', 'United Arab Emirates', 'United Kingdom', 'Uruguay', 'Uzbekistan']\n",
      "Province:  ['NoInfo', 'Northern Territory', 'Nova Scotia', 'North Carolina', 'North Dakota']\n"
     ]
    }
   ],
   "source": [
    "search_country_province( 'U', 'No', df)"
   ]
  },
  {
   "cell_type": "markdown",
   "metadata": {},
   "source": [
    "## Compare two countries"
   ]
  },
  {
   "cell_type": "code",
   "execution_count": 159,
   "metadata": {},
   "outputs": [
    {
     "data": {
      "image/png": "[encoded data removed]",
      "text/plain": [
       "<Figure size 1200x600 with 4 Axes>"
      ]
     },
     "metadata": {
      "needs_background": "light"
     },
     "output_type": "display_data"
    }
   ],
   "source": [
    "CName = 'United Kingdom'\n",
    "\n",
    "df_p = df_summed_provinces(df, CName)\n",
    "\n",
    "fig, ax = plt.subplots(1,2, figsize = (6,3), dpi=200)\n",
    "# fig, ax = plt.subplots(1,2, dpi=200)\n",
    "fig.subplots_adjust(wspace=0.6, hspace=0.0)\n",
    "ax = ax.ravel()\n",
    "fontl=8\n",
    "\n",
    "ax[0].plot( df_p.index, df_p['ConfirmedCases'],'-',color='b', label=CName)\n",
    "ax[1].plot( df_p.index, df_p['Fatalities'],'-',color='b', label=CName)\n",
    "\n",
    "# Second country, y2 axis\n",
    "CName = 'US'\n",
    "df_p = df_summed_provinces(df, CName)\n",
    "\n",
    "axY2 = [ax[0].twinx(), ax[1].twinx()]\n",
    "axY2[0].plot( df_p.index, df_p['ConfirmedCases'],'-',color='r', label=CName)\n",
    "axY2[1].plot( df_p.index, df_p['Fatalities'],'-',color='r', label=CName)\n",
    "\n",
    "for iPlot in [0,1]:\n",
    "    ax[iPlot].set_xlabel('Days', fontsize=fontl)\n",
    "#     ax[0].set_title( 'Cases', fontsize=fontl)\n",
    "#     ax[1].set_title( 'Dead', fontsize=fontl)\n",
    "    \n",
    "    ax[0].set_ylabel('Confirmed cases', fontsize=fontl)\n",
    "    ax[1].set_ylabel('Dead', fontsize=fontl)\n",
    "    \n",
    "    ax[iPlot].legend( loc='upper left', frameon = 0, fontsize=fontl)\n",
    "    ax[iPlot].tick_params(axis='both', which='major', labelsize=1.0*fontl)\n",
    "    \n",
    "    axY2[iPlot].legend( loc='center left', frameon = 0, fontsize=fontl)\n",
    "    axY2[iPlot].tick_params(axis='both', which='major', labelsize=1.0*fontl)\n",
    "    \n",
    "    ax[iPlot].set_xlim(40,)"
   ]
  },
  {
   "cell_type": "code",
   "execution_count": 162,
   "metadata": {},
   "outputs": [
    {
     "data": {
      "text/html": [
       "<div>\n",
       "<style scoped>\n",
       "    .dataframe tbody tr th:only-of-type {\n",
       "        vertical-align: middle;\n",
       "    }\n",
       "\n",
       "    .dataframe tbody tr th {\n",
       "        vertical-align: top;\n",
       "    }\n",
       "\n",
       "    .dataframe thead th {\n",
       "        text-align: right;\n",
       "    }\n",
       "</style>\n",
       "<table border=\"1\" class=\"dataframe\">\n",
       "  <thead>\n",
       "    <tr style=\"text-align: right;\">\n",
       "      <th></th>\n",
       "      <th>Id</th>\n",
       "      <th>Province_State</th>\n",
       "      <th>Country_Region</th>\n",
       "      <th>Date</th>\n",
       "      <th>ConfirmedCases</th>\n",
       "      <th>Fatalities</th>\n",
       "      <th>Num_Days</th>\n",
       "    </tr>\n",
       "  </thead>\n",
       "  <tbody>\n",
       "    <tr>\n",
       "      <th>15008</th>\n",
       "      <td>22401</td>\n",
       "      <td>Alabama</td>\n",
       "      <td>US</td>\n",
       "      <td>2020-01-22</td>\n",
       "      <td>0.0</td>\n",
       "      <td>0.0</td>\n",
       "      <td>0</td>\n",
       "    </tr>\n",
       "    <tr>\n",
       "      <th>15009</th>\n",
       "      <td>22402</td>\n",
       "      <td>Alabama</td>\n",
       "      <td>US</td>\n",
       "      <td>2020-01-23</td>\n",
       "      <td>0.0</td>\n",
       "      <td>0.0</td>\n",
       "      <td>1</td>\n",
       "    </tr>\n",
       "    <tr>\n",
       "      <th>15010</th>\n",
       "      <td>22403</td>\n",
       "      <td>Alabama</td>\n",
       "      <td>US</td>\n",
       "      <td>2020-01-24</td>\n",
       "      <td>0.0</td>\n",
       "      <td>0.0</td>\n",
       "      <td>2</td>\n",
       "    </tr>\n",
       "    <tr>\n",
       "      <th>15011</th>\n",
       "      <td>22404</td>\n",
       "      <td>Alabama</td>\n",
       "      <td>US</td>\n",
       "      <td>2020-01-25</td>\n",
       "      <td>0.0</td>\n",
       "      <td>0.0</td>\n",
       "      <td>3</td>\n",
       "    </tr>\n",
       "    <tr>\n",
       "      <th>15012</th>\n",
       "      <td>22405</td>\n",
       "      <td>Alabama</td>\n",
       "      <td>US</td>\n",
       "      <td>2020-01-26</td>\n",
       "      <td>0.0</td>\n",
       "      <td>0.0</td>\n",
       "      <td>4</td>\n",
       "    </tr>\n",
       "    <tr>\n",
       "      <th>...</th>\n",
       "      <td>...</td>\n",
       "      <td>...</td>\n",
       "      <td>...</td>\n",
       "      <td>...</td>\n",
       "      <td>...</td>\n",
       "      <td>...</td>\n",
       "      <td>...</td>\n",
       "    </tr>\n",
       "    <tr>\n",
       "      <th>18621</th>\n",
       "      <td>27763</td>\n",
       "      <td>Wyoming</td>\n",
       "      <td>US</td>\n",
       "      <td>2020-03-24</td>\n",
       "      <td>29.0</td>\n",
       "      <td>0.0</td>\n",
       "      <td>62</td>\n",
       "    </tr>\n",
       "    <tr>\n",
       "      <th>18622</th>\n",
       "      <td>27764</td>\n",
       "      <td>Wyoming</td>\n",
       "      <td>US</td>\n",
       "      <td>2020-03-25</td>\n",
       "      <td>44.0</td>\n",
       "      <td>0.0</td>\n",
       "      <td>63</td>\n",
       "    </tr>\n",
       "    <tr>\n",
       "      <th>18623</th>\n",
       "      <td>27765</td>\n",
       "      <td>Wyoming</td>\n",
       "      <td>US</td>\n",
       "      <td>2020-03-26</td>\n",
       "      <td>53.0</td>\n",
       "      <td>0.0</td>\n",
       "      <td>64</td>\n",
       "    </tr>\n",
       "    <tr>\n",
       "      <th>18624</th>\n",
       "      <td>27766</td>\n",
       "      <td>Wyoming</td>\n",
       "      <td>US</td>\n",
       "      <td>2020-03-27</td>\n",
       "      <td>70.0</td>\n",
       "      <td>0.0</td>\n",
       "      <td>65</td>\n",
       "    </tr>\n",
       "    <tr>\n",
       "      <th>18625</th>\n",
       "      <td>27767</td>\n",
       "      <td>Wyoming</td>\n",
       "      <td>US</td>\n",
       "      <td>2020-03-28</td>\n",
       "      <td>82.0</td>\n",
       "      <td>0.0</td>\n",
       "      <td>66</td>\n",
       "    </tr>\n",
       "  </tbody>\n",
       "</table>\n",
       "<p>3618 rows × 7 columns</p>\n",
       "</div>"
      ],
      "text/plain": [
       "          Id Province_State Country_Region       Date  ConfirmedCases  \\\n",
       "15008  22401        Alabama             US 2020-01-22             0.0   \n",
       "15009  22402        Alabama             US 2020-01-23             0.0   \n",
       "15010  22403        Alabama             US 2020-01-24             0.0   \n",
       "15011  22404        Alabama             US 2020-01-25             0.0   \n",
       "15012  22405        Alabama             US 2020-01-26             0.0   \n",
       "...      ...            ...            ...        ...             ...   \n",
       "18621  27763        Wyoming             US 2020-03-24            29.0   \n",
       "18622  27764        Wyoming             US 2020-03-25            44.0   \n",
       "18623  27765        Wyoming             US 2020-03-26            53.0   \n",
       "18624  27766        Wyoming             US 2020-03-27            70.0   \n",
       "18625  27767        Wyoming             US 2020-03-28            82.0   \n",
       "\n",
       "       Fatalities  Num_Days  \n",
       "15008         0.0         0  \n",
       "15009         0.0         1  \n",
       "15010         0.0         2  \n",
       "15011         0.0         3  \n",
       "15012         0.0         4  \n",
       "...           ...       ...  \n",
       "18621         0.0        62  \n",
       "18622         0.0        63  \n",
       "18623         0.0        64  \n",
       "18624         0.0        65  \n",
       "18625         0.0        66  \n",
       "\n",
       "[3618 rows x 7 columns]"
      ]
     },
     "execution_count": 162,
     "metadata": {},
     "output_type": "execute_result"
    }
   ],
   "source": [
    "df[ df['Country_Region'] == 'US' ]"
   ]
  },
  {
   "cell_type": "code",
   "execution_count": null,
   "metadata": {},
   "outputs": [],
   "source": []
  }
 ],
 "metadata": {
  "anaconda-cloud": {},
  "coursera": {
   "course_slug": "python-data-analysis",
   "graded_item_id": "tHmgx",
   "launcher_item_id": "Um6Bz",
   "part_id": "OQsnr"
  },
  "kernelspec": {
   "display_name": "Python 3",
   "language": "python",
   "name": "python3"
  },
  "language_info": {
   "codemirror_mode": {
    "name": "ipython",
    "version": 3
   },
   "file_extension": ".py",
   "mimetype": "text/x-python",
   "name": "python",
   "nbconvert_exporter": "python",
   "pygments_lexer": "ipython3",
   "version": "3.7.6"
  }
 },
 "nbformat": 4,
 "nbformat_minor": 4
}
